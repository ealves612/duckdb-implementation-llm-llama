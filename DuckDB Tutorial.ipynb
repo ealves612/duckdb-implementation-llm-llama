{
 "cells": [
  {
   "cell_type": "code",
   "execution_count": 59,
   "id": "e43bece6-550f-407e-bc2f-891bd156973a",
   "metadata": {},
   "outputs": [],
   "source": [
    "import duckdb"
   ]
  },
  {
   "cell_type": "code",
   "execution_count": 60,
   "id": "924c77de-0a5d-4fb3-a4fa-740f25f1d539",
   "metadata": {},
   "outputs": [],
   "source": [
    "con = duckdb.connect(\"database_for_testing_duck.duckdb\")"
   ]
  },
  {
   "cell_type": "code",
   "execution_count": 61,
   "id": "c3663338-63f8-4682-ad5b-1480fc92aaa2",
   "metadata": {},
   "outputs": [
    {
     "data": {
      "text/html": [
       "<div>\n",
       "<style scoped>\n",
       "    .dataframe tbody tr th:only-of-type {\n",
       "        vertical-align: middle;\n",
       "    }\n",
       "\n",
       "    .dataframe tbody tr th {\n",
       "        vertical-align: top;\n",
       "    }\n",
       "\n",
       "    .dataframe thead th {\n",
       "        text-align: right;\n",
       "    }\n",
       "</style>\n",
       "<table border=\"1\" class=\"dataframe\">\n",
       "  <thead>\n",
       "    <tr style=\"text-align: right;\">\n",
       "      <th></th>\n",
       "      <th>database</th>\n",
       "      <th>schema</th>\n",
       "      <th>name</th>\n",
       "      <th>column_names</th>\n",
       "      <th>column_types</th>\n",
       "      <th>temporary</th>\n",
       "    </tr>\n",
       "  </thead>\n",
       "  <tbody>\n",
       "    <tr>\n",
       "      <th>0</th>\n",
       "      <td>database_for_testing_duck</td>\n",
       "      <td>main</td>\n",
       "      <td>bank</td>\n",
       "      <td>[index, age, job, marital, education, default,...</td>\n",
       "      <td>[BIGINT, BIGINT, VARCHAR, VARCHAR, VARCHAR, VA...</td>\n",
       "      <td>False</td>\n",
       "    </tr>\n",
       "  </tbody>\n",
       "</table>\n",
       "</div>"
      ],
      "text/plain": [
       "                    database schema  name  \\\n",
       "0  database_for_testing_duck   main  bank   \n",
       "\n",
       "                                        column_names  \\\n",
       "0  [index, age, job, marital, education, default,...   \n",
       "\n",
       "                                        column_types  temporary  \n",
       "0  [BIGINT, BIGINT, VARCHAR, VARCHAR, VARCHAR, VA...      False  "
      ]
     },
     "execution_count": 61,
     "metadata": {},
     "output_type": "execute_result"
    }
   ],
   "source": [
    "con.execute(\"\"\"\n",
    "    CREATE TABLE IF NOT EXISTS bank AS \n",
    "    SELECT * FROM read_csv('bank_information.csv')\n",
    "\"\"\")\n",
    "con.execute(\"SHOW ALL TABLES\").fetchdf()"
   ]
  },
  {
   "cell_type": "code",
   "execution_count": 62,
   "id": "16e888dd-0ea3-42a6-a85d-deba2739e772",
   "metadata": {},
   "outputs": [
    {
     "data": {
      "text/html": [
       "<div>\n",
       "<style scoped>\n",
       "    .dataframe tbody tr th:only-of-type {\n",
       "        vertical-align: middle;\n",
       "    }\n",
       "\n",
       "    .dataframe tbody tr th {\n",
       "        vertical-align: top;\n",
       "    }\n",
       "\n",
       "    .dataframe thead th {\n",
       "        text-align: right;\n",
       "    }\n",
       "</style>\n",
       "<table border=\"1\" class=\"dataframe\">\n",
       "  <thead>\n",
       "    <tr style=\"text-align: right;\">\n",
       "      <th></th>\n",
       "      <th>index</th>\n",
       "      <th>age</th>\n",
       "      <th>job</th>\n",
       "      <th>marital</th>\n",
       "      <th>education</th>\n",
       "      <th>default</th>\n",
       "      <th>housing</th>\n",
       "      <th>loan</th>\n",
       "      <th>contact</th>\n",
       "      <th>month</th>\n",
       "      <th>...</th>\n",
       "      <th>campaign</th>\n",
       "      <th>pdays</th>\n",
       "      <th>previous</th>\n",
       "      <th>poutcome</th>\n",
       "      <th>emp.var.rate</th>\n",
       "      <th>cons.price.idx</th>\n",
       "      <th>cons.conf.idx</th>\n",
       "      <th>euribor3m</th>\n",
       "      <th>nr.employed</th>\n",
       "      <th>y</th>\n",
       "    </tr>\n",
       "  </thead>\n",
       "  <tbody>\n",
       "    <tr>\n",
       "      <th>0</th>\n",
       "      <td>9</td>\n",
       "      <td>25</td>\n",
       "      <td>services</td>\n",
       "      <td>single</td>\n",
       "      <td>high.school</td>\n",
       "      <td>no</td>\n",
       "      <td>yes</td>\n",
       "      <td>no</td>\n",
       "      <td>telephone</td>\n",
       "      <td>may</td>\n",
       "      <td>...</td>\n",
       "      <td>1</td>\n",
       "      <td>999</td>\n",
       "      <td>0</td>\n",
       "      <td>nonexistent</td>\n",
       "      <td>None</td>\n",
       "      <td>None</td>\n",
       "      <td>None</td>\n",
       "      <td>4.857</td>\n",
       "      <td>None</td>\n",
       "      <td>False</td>\n",
       "    </tr>\n",
       "    <tr>\n",
       "      <th>1</th>\n",
       "      <td>10</td>\n",
       "      <td>41</td>\n",
       "      <td>blue-collar</td>\n",
       "      <td>married</td>\n",
       "      <td>unknown</td>\n",
       "      <td>unknown</td>\n",
       "      <td>no</td>\n",
       "      <td>no</td>\n",
       "      <td>telephone</td>\n",
       "      <td>may</td>\n",
       "      <td>...</td>\n",
       "      <td>1</td>\n",
       "      <td>999</td>\n",
       "      <td>0</td>\n",
       "      <td>nonexistent</td>\n",
       "      <td>None</td>\n",
       "      <td>None</td>\n",
       "      <td>None</td>\n",
       "      <td>4.857</td>\n",
       "      <td>None</td>\n",
       "      <td>False</td>\n",
       "    </tr>\n",
       "    <tr>\n",
       "      <th>2</th>\n",
       "      <td>20</td>\n",
       "      <td>30</td>\n",
       "      <td>unemployed</td>\n",
       "      <td>married</td>\n",
       "      <td>high.school</td>\n",
       "      <td>no</td>\n",
       "      <td>no</td>\n",
       "      <td>no</td>\n",
       "      <td>telephone</td>\n",
       "      <td>may</td>\n",
       "      <td>...</td>\n",
       "      <td>1</td>\n",
       "      <td>999</td>\n",
       "      <td>0</td>\n",
       "      <td>nonexistent</td>\n",
       "      <td>None</td>\n",
       "      <td>None</td>\n",
       "      <td>None</td>\n",
       "      <td>4.857</td>\n",
       "      <td>None</td>\n",
       "      <td>False</td>\n",
       "    </tr>\n",
       "    <tr>\n",
       "      <th>3</th>\n",
       "      <td>25</td>\n",
       "      <td>35</td>\n",
       "      <td>technician</td>\n",
       "      <td>married</td>\n",
       "      <td>university.degree</td>\n",
       "      <td>no</td>\n",
       "      <td>no</td>\n",
       "      <td>yes</td>\n",
       "      <td>telephone</td>\n",
       "      <td>may</td>\n",
       "      <td>...</td>\n",
       "      <td>1</td>\n",
       "      <td>999</td>\n",
       "      <td>0</td>\n",
       "      <td>nonexistent</td>\n",
       "      <td>None</td>\n",
       "      <td>None</td>\n",
       "      <td>None</td>\n",
       "      <td>4.857</td>\n",
       "      <td>None</td>\n",
       "      <td>False</td>\n",
       "    </tr>\n",
       "    <tr>\n",
       "      <th>4</th>\n",
       "      <td>26</td>\n",
       "      <td>59</td>\n",
       "      <td>technician</td>\n",
       "      <td>married</td>\n",
       "      <td>unknown</td>\n",
       "      <td>no</td>\n",
       "      <td>yes</td>\n",
       "      <td>no</td>\n",
       "      <td>telephone</td>\n",
       "      <td>may</td>\n",
       "      <td>...</td>\n",
       "      <td>1</td>\n",
       "      <td>999</td>\n",
       "      <td>0</td>\n",
       "      <td>nonexistent</td>\n",
       "      <td>None</td>\n",
       "      <td>None</td>\n",
       "      <td>None</td>\n",
       "      <td>4.857</td>\n",
       "      <td>None</td>\n",
       "      <td>False</td>\n",
       "    </tr>\n",
       "  </tbody>\n",
       "</table>\n",
       "<p>5 rows × 22 columns</p>\n",
       "</div>"
      ],
      "text/plain": [
       "   index  age          job  marital          education  default housing loan  \\\n",
       "0      9   25     services   single        high.school       no     yes   no   \n",
       "1     10   41  blue-collar  married            unknown  unknown      no   no   \n",
       "2     20   30   unemployed  married        high.school       no      no   no   \n",
       "3     25   35   technician  married  university.degree       no      no  yes   \n",
       "4     26   59   technician  married            unknown       no     yes   no   \n",
       "\n",
       "     contact month  ... campaign  pdays  previous     poutcome  emp.var.rate  \\\n",
       "0  telephone   may  ...        1    999         0  nonexistent          None   \n",
       "1  telephone   may  ...        1    999         0  nonexistent          None   \n",
       "2  telephone   may  ...        1    999         0  nonexistent          None   \n",
       "3  telephone   may  ...        1    999         0  nonexistent          None   \n",
       "4  telephone   may  ...        1    999         0  nonexistent          None   \n",
       "\n",
       "  cons.price.idx cons.conf.idx euribor3m nr.employed      y  \n",
       "0           None          None     4.857        None  False  \n",
       "1           None          None     4.857        None  False  \n",
       "2           None          None     4.857        None  False  \n",
       "3           None          None     4.857        None  False  \n",
       "4           None          None     4.857        None  False  \n",
       "\n",
       "[5 rows x 22 columns]"
      ]
     },
     "execution_count": 62,
     "metadata": {},
     "output_type": "execute_result"
    }
   ],
   "source": [
    "con.execute(\"SELECT * FROM bank WHERE duration < 100 LIMIT 5\").fetchdf()"
   ]
  },
  {
   "cell_type": "code",
   "execution_count": 63,
   "id": "f78c4779-77ee-48e9-b6dc-87e64943a4fb",
   "metadata": {},
   "outputs": [
    {
     "data": {
      "text/plain": [
       "['index',\n",
       " 'age',\n",
       " 'job',\n",
       " 'marital',\n",
       " 'education',\n",
       " 'default',\n",
       " 'housing',\n",
       " 'loan',\n",
       " 'contact',\n",
       " 'month',\n",
       " 'day_of_week',\n",
       " 'duration',\n",
       " 'campaign',\n",
       " 'pdays',\n",
       " 'previous',\n",
       " 'poutcome',\n",
       " 'emp.var.rate',\n",
       " 'cons.price.idx',\n",
       " 'cons.conf.idx',\n",
       " 'euribor3m',\n",
       " 'nr.employed',\n",
       " 'y']"
      ]
     },
     "execution_count": 63,
     "metadata": {},
     "output_type": "execute_result"
    }
   ],
   "source": [
    "rel = con.table(\"bank\")\n",
    "rel.columns"
   ]
  },
  {
   "cell_type": "code",
   "execution_count": 64,
   "id": "6f917e03-ee3f-49d5-a8ea-35b7a143fa38",
   "metadata": {},
   "outputs": [
    {
     "data": {
      "text/html": [
       "<div>\n",
       "<style scoped>\n",
       "    .dataframe tbody tr th:only-of-type {\n",
       "        vertical-align: middle;\n",
       "    }\n",
       "\n",
       "    .dataframe tbody tr th {\n",
       "        vertical-align: top;\n",
       "    }\n",
       "\n",
       "    .dataframe thead th {\n",
       "        text-align: right;\n",
       "    }\n",
       "</style>\n",
       "<table border=\"1\" class=\"dataframe\">\n",
       "  <thead>\n",
       "    <tr style=\"text-align: right;\">\n",
       "      <th></th>\n",
       "      <th>job</th>\n",
       "      <th>education</th>\n",
       "      <th>loan</th>\n",
       "    </tr>\n",
       "  </thead>\n",
       "  <tbody>\n",
       "    <tr>\n",
       "      <th>0</th>\n",
       "      <td>blue-collar</td>\n",
       "      <td>unknown</td>\n",
       "      <td>no</td>\n",
       "    </tr>\n",
       "    <tr>\n",
       "      <th>1</th>\n",
       "      <td>blue-collar</td>\n",
       "      <td>unknown</td>\n",
       "      <td>no</td>\n",
       "    </tr>\n",
       "    <tr>\n",
       "      <th>2</th>\n",
       "      <td>blue-collar</td>\n",
       "      <td>basic.9y</td>\n",
       "      <td>no</td>\n",
       "    </tr>\n",
       "  </tbody>\n",
       "</table>\n",
       "</div>"
      ],
      "text/plain": [
       "           job education loan\n",
       "0  blue-collar   unknown   no\n",
       "1  blue-collar   unknown   no\n",
       "2  blue-collar  basic.9y   no"
      ]
     },
     "execution_count": 64,
     "metadata": {},
     "output_type": "execute_result"
    }
   ],
   "source": [
    "rel.filter(\"duration < 100\").project(\"job,education,loan\").order(\"job\").limit(3).df()"
   ]
  },
  {
   "cell_type": "code",
   "execution_count": 65,
   "id": "60a6bbd6-d4fe-43f5-9a54-f9f2a5af99f3",
   "metadata": {},
   "outputs": [
    {
     "data": {
      "text/html": [
       "<div>\n",
       "<style scoped>\n",
       "    .dataframe tbody tr th:only-of-type {\n",
       "        vertical-align: middle;\n",
       "    }\n",
       "\n",
       "    .dataframe tbody tr th {\n",
       "        vertical-align: top;\n",
       "    }\n",
       "\n",
       "    .dataframe thead th {\n",
       "        text-align: right;\n",
       "    }\n",
       "</style>\n",
       "<table border=\"1\" class=\"dataframe\">\n",
       "  <thead>\n",
       "    <tr style=\"text-align: right;\">\n",
       "      <th></th>\n",
       "      <th>job</th>\n",
       "      <th>total_clients_contacted</th>\n",
       "      <th>avg_campaign_duration</th>\n",
       "    </tr>\n",
       "  </thead>\n",
       "  <tbody>\n",
       "    <tr>\n",
       "      <th>0</th>\n",
       "      <td>admin.</td>\n",
       "      <td>26</td>\n",
       "      <td>245.807692</td>\n",
       "    </tr>\n",
       "    <tr>\n",
       "      <th>1</th>\n",
       "      <td>blue-collar</td>\n",
       "      <td>23</td>\n",
       "      <td>320.695652</td>\n",
       "    </tr>\n",
       "    <tr>\n",
       "      <th>2</th>\n",
       "      <td>technician</td>\n",
       "      <td>13</td>\n",
       "      <td>385.153846</td>\n",
       "    </tr>\n",
       "    <tr>\n",
       "      <th>3</th>\n",
       "      <td>management</td>\n",
       "      <td>9</td>\n",
       "      <td>283.444444</td>\n",
       "    </tr>\n",
       "    <tr>\n",
       "      <th>4</th>\n",
       "      <td>services</td>\n",
       "      <td>8</td>\n",
       "      <td>323.750000</td>\n",
       "    </tr>\n",
       "    <tr>\n",
       "      <th>5</th>\n",
       "      <td>unknown</td>\n",
       "      <td>4</td>\n",
       "      <td>239.250000</td>\n",
       "    </tr>\n",
       "    <tr>\n",
       "      <th>6</th>\n",
       "      <td>housemaid</td>\n",
       "      <td>3</td>\n",
       "      <td>273.333333</td>\n",
       "    </tr>\n",
       "    <tr>\n",
       "      <th>7</th>\n",
       "      <td>entrepreneur</td>\n",
       "      <td>3</td>\n",
       "      <td>601.666667</td>\n",
       "    </tr>\n",
       "    <tr>\n",
       "      <th>8</th>\n",
       "      <td>retired</td>\n",
       "      <td>2</td>\n",
       "      <td>258.000000</td>\n",
       "    </tr>\n",
       "    <tr>\n",
       "      <th>9</th>\n",
       "      <td>unemployed</td>\n",
       "      <td>2</td>\n",
       "      <td>345.000000</td>\n",
       "    </tr>\n",
       "    <tr>\n",
       "      <th>10</th>\n",
       "      <td>self-employed</td>\n",
       "      <td>1</td>\n",
       "      <td>233.000000</td>\n",
       "    </tr>\n",
       "  </tbody>\n",
       "</table>\n",
       "</div>"
      ],
      "text/plain": [
       "              job  total_clients_contacted  avg_campaign_duration\n",
       "0          admin.                       26             245.807692\n",
       "1     blue-collar                       23             320.695652\n",
       "2      technician                       13             385.153846\n",
       "3      management                        9             283.444444\n",
       "4        services                        8             323.750000\n",
       "5         unknown                        4             239.250000\n",
       "6       housemaid                        3             273.333333\n",
       "7    entrepreneur                        3             601.666667\n",
       "8         retired                        2             258.000000\n",
       "9      unemployed                        2             345.000000\n",
       "10  self-employed                        1             233.000000"
      ]
     },
     "execution_count": 65,
     "metadata": {},
     "output_type": "execute_result"
    }
   ],
   "source": [
    "res = duckdb.query(\"\"\"SELECT \n",
    "                            job,\n",
    "                            COUNT(*) AS total_clients_contacted,\n",
    "                            AVG(duration) AS avg_campaign_duration,\n",
    "                        FROM \n",
    "                            'bank_information.csv'\n",
    "                        WHERE \n",
    "                            age > 30\n",
    "                        GROUP BY \n",
    "                            job\n",
    "                        ORDER BY \n",
    "                            total_clients_contacted DESC;\"\"\")\n",
    "res.df()"
   ]
  },
  {
   "cell_type": "code",
   "execution_count": 66,
   "id": "bbbd0fb8-a5eb-4fe3-b674-d16280d11198",
   "metadata": {},
   "outputs": [],
   "source": [
    "con.close()"
   ]
  },
  {
   "cell_type": "code",
   "execution_count": 67,
   "id": "ca277114-5f56-4cf9-a3c5-7cbb0919ca90",
   "metadata": {},
   "outputs": [],
   "source": [
    "from llama_index.core import VectorStoreIndex, SimpleDirectoryReader\n",
    "from llama_index.vector_stores.duckdb import DuckDBVectorStore\n",
    "from llama_index.core import StorageContext\n",
    "\n",
    "from IPython.display import Markdown, display"
   ]
  },
  {
   "cell_type": "code",
   "execution_count": 68,
   "id": "8b2acc9f-d070-4c2d-af6e-1a03e71054f8",
   "metadata": {},
   "outputs": [],
   "source": [
    "import os\n",
    "from llama_index.llms.openai import OpenAI\n",
    "import config\n",
    "\n",
    "config.apiToken()\n",
    "\n",
    "llm = OpenAI(model=\"gpt-4o\",api_key=os.environ[\"OPENAI_API_KEY\"])"
   ]
  },
  {
   "cell_type": "code",
   "execution_count": 69,
   "id": "ccbea2d0-f40b-497e-8fdd-6bb7e42fe635",
   "metadata": {},
   "outputs": [],
   "source": [
    "from llama_index.embeddings.openai import OpenAIEmbedding\n",
    "embed_model = OpenAIEmbedding(\n",
    "    model=\"text-embedding-3-small\",\n",
    ")"
   ]
  },
  {
   "cell_type": "code",
   "execution_count": 70,
   "id": "8bd87b9a-9449-42cc-914c-41ce8ee66573",
   "metadata": {},
   "outputs": [],
   "source": [
    "from llama_index.core import Settings\n",
    "\n",
    "Settings.llm = llm\n",
    "Settings.embed_model = embed_model"
   ]
  },
  {
   "cell_type": "code",
   "execution_count": 71,
   "id": "fa6a92bf-25f5-46a3-a94e-d407b2b49a8d",
   "metadata": {},
   "outputs": [],
   "source": [
    "documents = SimpleDirectoryReader(\"Data\").load_data()"
   ]
  },
  {
   "cell_type": "code",
   "execution_count": 72,
   "id": "5553b476-b484-422c-9340-af3ff7a92f6a",
   "metadata": {},
   "outputs": [],
   "source": [
    "vector_store = DuckDBVectorStore(database_name = \"database_for_testing_duck.duckdb\",table_name = \"blog\",persist_dir=\"./\", embed_dim=1536)\n",
    "storage_context = StorageContext.from_defaults(vector_store=vector_store)\n",
    "\n",
    "index = VectorStoreIndex.from_documents(\n",
    "    documents, storage_context=storage_context\n",
    ")"
   ]
  },
  {
   "cell_type": "code",
   "execution_count": 74,
   "id": "c560b0ff-3e7f-4fdb-90c9-11f3731f7650",
   "metadata": {},
   "outputs": [
    {
     "data": {
      "text/html": [
       "<div>\n",
       "<style scoped>\n",
       "    .dataframe tbody tr th:only-of-type {\n",
       "        vertical-align: middle;\n",
       "    }\n",
       "\n",
       "    .dataframe tbody tr th {\n",
       "        vertical-align: top;\n",
       "    }\n",
       "\n",
       "    .dataframe thead th {\n",
       "        text-align: right;\n",
       "    }\n",
       "</style>\n",
       "<table border=\"1\" class=\"dataframe\">\n",
       "  <thead>\n",
       "    <tr style=\"text-align: right;\">\n",
       "      <th></th>\n",
       "      <th>database</th>\n",
       "      <th>schema</th>\n",
       "      <th>name</th>\n",
       "      <th>column_names</th>\n",
       "      <th>column_types</th>\n",
       "      <th>temporary</th>\n",
       "    </tr>\n",
       "  </thead>\n",
       "  <tbody>\n",
       "    <tr>\n",
       "      <th>0</th>\n",
       "      <td>database_for_testing_duck</td>\n",
       "      <td>main</td>\n",
       "      <td>bank</td>\n",
       "      <td>[index, age, job, marital, education, default,...</td>\n",
       "      <td>[BIGINT, BIGINT, VARCHAR, VARCHAR, VARCHAR, VA...</td>\n",
       "      <td>False</td>\n",
       "    </tr>\n",
       "    <tr>\n",
       "      <th>1</th>\n",
       "      <td>database_for_testing_duck</td>\n",
       "      <td>main</td>\n",
       "      <td>blog</td>\n",
       "      <td>[node_id, text, embedding, metadata_]</td>\n",
       "      <td>[VARCHAR, VARCHAR, FLOAT[1536], JSON]</td>\n",
       "      <td>False</td>\n",
       "    </tr>\n",
       "  </tbody>\n",
       "</table>\n",
       "</div>"
      ],
      "text/plain": [
       "                    database schema  name  \\\n",
       "0  database_for_testing_duck   main  bank   \n",
       "1  database_for_testing_duck   main  blog   \n",
       "\n",
       "                                        column_names  \\\n",
       "0  [index, age, job, marital, education, default,...   \n",
       "1              [node_id, text, embedding, metadata_]   \n",
       "\n",
       "                                        column_types  temporary  \n",
       "0  [BIGINT, BIGINT, VARCHAR, VARCHAR, VARCHAR, VA...      False  \n",
       "1              [VARCHAR, VARCHAR, FLOAT[1536], JSON]      False  "
      ]
     },
     "execution_count": 74,
     "metadata": {},
     "output_type": "execute_result"
    }
   ],
   "source": [
    "con = duckdb.connect(\"database_for_testing_duck.duckdb\")\n",
    "\n",
    "con.execute(\"SHOW ALL TABLES\").fetchdf()"
   ]
  },
  {
   "cell_type": "code",
   "execution_count": 75,
   "id": "62b0d09d-652c-41a0-af2a-f20626e35e23",
   "metadata": {},
   "outputs": [
    {
     "data": {
      "text/markdown": [
       "<b>The 'DuckDB Tutorial: Building AI Projects' was written by Abid Ali Awan.</b>"
      ],
      "text/plain": [
       "<IPython.core.display.Markdown object>"
      ]
     },
     "metadata": {},
     "output_type": "display_data"
    }
   ],
   "source": [
    "query_engine = index.as_query_engine()\n",
    "response = query_engine.query(\"Who wrote 'DuckDB Tutorial: Building AI Projects'?\")\n",
    "display(Markdown(f\"<b>{response}</b>\"))"
   ]
  },
  {
   "cell_type": "code",
   "execution_count": 76,
   "id": "5894f8cc-8f1d-44f9-aa7b-d63707a42ac5",
   "metadata": {},
   "outputs": [
    {
     "data": {
      "text/markdown": [
       "To implement DuckDB with a Large Language Model (LLM), you can follow these steps, which are based on building a Retrieval-Augmented Generation (RAG) application using DuckDB as a vector database and retriever:\n",
       "\n",
       "1. **Install Necessary Packages**: \n",
       "   - First, ensure you have Python installed on your system. Then, install the required packages using pip. You will need DuckDB, LlamaIndex, and LlamaIndex-Vector-Stores-DuckDB. You can install them using the following commands:\n",
       "     ```bash\n",
       "     %pip install duckdb\n",
       "     %pip install llama-index\n",
       "     %pip install llama-index-vector-stores-duckdb\n",
       "     ```\n",
       "\n",
       "2. **Set Up Your Environment**:\n",
       "   - Import the necessary Python packages in your script. This will typically include DuckDB and any other libraries you need for your specific application.\n",
       "\n",
       "3. **Create and Retrieve the Index**:\n",
       "   - Use LlamaIndex to create an index that will be stored in DuckDB. This involves setting up your data in a format that can be indexed and then using LlamaIndex functions to create the index within DuckDB.\n",
       "\n",
       "4. **Execute SQL Queries**:\n",
       "   - Use DuckDB's query function to execute SQL queries on your data. For example, you might want to retrieve specific information or perform aggregations. Here's a sample query that finds job titles of clients over the age of 30, counts the number of clients contacted for each job, and calculates the average duration of the campaign:\n",
       "     ```python\n",
       "     res = duckdb.query(\"\"\"\n",
       "     SELECT \n",
       "         job,\n",
       "         COUNT(*) AS total_clients_contacted,\n",
       "         AVG(duration) AS avg_campaign_duration\n",
       "     FROM \n",
       "         'bank-marketing.csv'\n",
       "     WHERE \n",
       "         age > 30\n",
       "     GROUP BY \n",
       "         job\n",
       "     ORDER BY \n",
       "         total_clients_contacted DESC;\n",
       "     \"\"\")\n",
       "     df = res.df()\n",
       "     ```\n",
       "\n",
       "5. **Close the Connection**:\n",
       "   - After executing your queries and retrieving the necessary data, make sure to close the connection to the DuckDB database to release any resources and prevent potential memory leaks:\n",
       "     ```python\n",
       "     con.close()\n",
       "     ```\n",
       "\n",
       "These steps provide a basic framework for integrating DuckDB with an LLM using a RAG approach. You can expand upon this by incorporating more complex queries, additional data processing, and integrating the results with your LLM for further analysis or generation tasks."
      ],
      "text/plain": [
       "<IPython.core.display.Markdown object>"
      ]
     },
     "metadata": {},
     "output_type": "display_data"
    }
   ],
   "source": [
    "from llama_index.core.memory import ChatMemoryBuffer\n",
    "from llama_index.core.chat_engine import CondensePlusContextChatEngine\n",
    "\n",
    "memory = ChatMemoryBuffer.from_defaults(token_limit=3900)\n",
    "\n",
    "chat_engine = CondensePlusContextChatEngine.from_defaults(\n",
    "    index.as_retriever(),\n",
    "    memory=memory,\n",
    "    llm=llm\n",
    ")\n",
    "\n",
    "response = chat_engine.chat(\n",
    "    \"How do I implement DuckDB with LLM? Provide step by step instructions\"\n",
    ")\n",
    "\n",
    "display(Markdown(response.response))"
   ]
  },
  {
   "cell_type": "code",
   "execution_count": 77,
   "id": "0fba6f7e-81e5-4fba-aac3-aa95e5857dd1",
   "metadata": {},
   "outputs": [
    {
     "data": {
      "text/markdown": [
       "To integrate DuckDB with a Large Language Model (LLM) and create a memory buffer, you can follow these steps:\n",
       "\n",
       "1. **Set Up the LLM**:\n",
       "   - Use the OpenAI API to set up your LLM. For this example, we'll use the GPT-4o model. You need to provide the model name and your API key. If your environment variable is set with the name “OPENAI_API_KEY,” you can omit the API key in the code.\n",
       "     ```python\n",
       "     import os\n",
       "     from llama_index.llms.openai import OpenAI\n",
       "\n",
       "     llm = OpenAI(model=\"gpt-4o\", api_key=os.environ[\"OPENAI_API_KEY\"])\n",
       "     ```\n",
       "\n",
       "2. **Set Up the Embedding Model**:\n",
       "   - Similarly, set up the embedding model using OpenAI's text-embedding-3-small model.\n",
       "     ```python\n",
       "     from llama_index.embeddings.openai import OpenAIEmbedding\n",
       "\n",
       "     embed_model = OpenAIEmbedding(model=\"text-embedding-3-small\")\n",
       "     ```\n",
       "\n",
       "3. **Configure Global Settings**:\n",
       "   - Make the LLM and embedding models global for all LlamaIndex functions to use by setting them as default in the settings.\n",
       "     ```python\n",
       "     from llama_index.core import Settings\n",
       "\n",
       "     Settings.llm = llm\n",
       "     Settings.embed_model = embed_model\n",
       "     ```\n",
       "\n",
       "4. **Load Data into DuckDB**:\n",
       "   - Load your data into DuckDB. For example, you can load PDF files from a directory and convert them into embeddings to store in a vector store.\n",
       "     ```python\n",
       "     from llama_index.core import VectorStoreIndex, SimpleDirectoryReader\n",
       "     from llama_index.vector_stores.duckdb import DuckDBVectorStore\n",
       "\n",
       "     documents = SimpleDirectoryReader(\"Data\").load_data()\n",
       "     ```\n",
       "\n",
       "5. **Create a Vector Store**:\n",
       "   - Create a vector store in DuckDB to store the embeddings. This will allow you to perform efficient similarity searches.\n",
       "     ```python\n",
       "     # Assuming you have a database called \"datacamp.duckdb\"\n",
       "     vector_store = DuckDBVectorStore(\"datacamp.duckdb\")\n",
       "     ```\n",
       "\n",
       "6. **Integrate with LLM**:\n",
       "   - Use the LLM to generate responses based on queries. You can use the vector store to retrieve relevant documents and pass them to the LLM for generating context-aware responses.\n",
       "     ```python\n",
       "     response = chat_engine.chat(\"Your query here\")\n",
       "     ```\n",
       "\n",
       "7. **Create a Memory Buffer**:\n",
       "   - To create a memory buffer, you can store the context of previous interactions in a data structure (e.g., a list or a database table) and use it to provide context for future queries. This allows the LLM to remember past interactions and provide more coherent responses.\n",
       "\n",
       "These steps outline the process of integrating DuckDB with an LLM and creating a memory buffer. The key is to use the vector store for efficient retrieval and maintain a context of interactions to enhance the LLM's responses."
      ],
      "text/plain": [
       "<IPython.core.display.Markdown object>"
      ]
     },
     "metadata": {},
     "output_type": "display_data"
    }
   ],
   "source": [
    "response = chat_engine.chat(\n",
    "    \"Could you please provide more details about the integration part with the LLM and how I create a memory buffer?\"\n",
    ")\n",
    "display(Markdown(response.response))"
   ]
  },
  {
   "cell_type": "code",
   "execution_count": 78,
   "id": "500064af-fd48-4ccf-846c-c6447c6bdadd",
   "metadata": {},
   "outputs": [],
   "source": [
    "con.close()"
   ]
  },
  {
   "cell_type": "code",
   "execution_count": 79,
   "id": "6fc1a292-ca71-430f-ba91-8d747756781f",
   "metadata": {},
   "outputs": [
    {
     "name": "stdout",
     "output_type": "stream",
     "text": [
      "[(0, 56, 'housemaid', 'married', 'basic.4y', 'no', 'no', 'no', 'telephone', 'may', 'mon', 261, 1, 999, 0, 'nonexistent', None, None, None, 4.857, None, False), (1, 57, 'services', 'married', 'high.school', 'unknown', 'no', 'no', 'telephone', 'may', 'mon', 149, 1, 999, 0, 'nonexistent', None, None, None, 4.857, None, False), (2, 37, 'services', 'married', 'high.school', 'no', 'yes', 'no', 'telephone', 'may', 'mon', 226, 1, 999, 0, 'nonexistent', None, None, None, 4.857, None, False)]\n"
     ]
    }
   ],
   "source": [
    "from sqlalchemy import create_engine\n",
    "\n",
    "engine = create_engine(\"duckdb:///database_for_testing_duck.duckdb\")\n",
    "with engine.connect() as connection:\n",
    "    cursor = connection.exec_driver_sql(\"SELECT * FROM bank LIMIT 3\")\n",
    "    print(cursor.fetchall())"
   ]
  },
  {
   "cell_type": "code",
   "execution_count": 80,
   "id": "fe8f5c8e-dd71-488d-9765-cd2dadd18452",
   "metadata": {},
   "outputs": [
    {
     "name": "stderr",
     "output_type": "stream",
     "text": [
      "/Users/emanuelalves/Library/Python/3.9/lib/python/site-packages/duckdb_engine/__init__.py:174: DuckDBEngineWarning: duckdb-engine doesn't yet support reflection on indices\n",
      "  warnings.warn(\n"
     ]
    }
   ],
   "source": [
    "from llama_index.core import SQLDatabase\n",
    "sql_database = SQLDatabase(engine, include_tables=[\"bank\"])"
   ]
  },
  {
   "cell_type": "code",
   "execution_count": 81,
   "id": "4db96af0-ffa3-4643-8f46-bf0d84514317",
   "metadata": {},
   "outputs": [],
   "source": [
    "from llama_index.core.query_engine import NLSQLTableQueryEngine\n",
    "\n",
    "query_engine = NLSQLTableQueryEngine(sql_database)"
   ]
  },
  {
   "cell_type": "code",
   "execution_count": 82,
   "id": "fa86ecfb-7b9d-4a61-a90c-fb22214e1cee",
   "metadata": {},
   "outputs": [
    {
     "name": "stdout",
     "output_type": "stream",
     "text": [
      "The longest running campaign is campaign number 1, with a duration of 1666 days.\n"
     ]
    }
   ],
   "source": [
    "response = query_engine.query(\"Which is the longest running campaign?\")\n",
    "\n",
    "print(response.response)"
   ]
  },
  {
   "cell_type": "code",
   "execution_count": 83,
   "id": "d7ad0ea5-1c12-40d4-99bc-37b87a3b33b3",
   "metadata": {},
   "outputs": [
    {
     "name": "stdout",
     "output_type": "stream",
     "text": [
      "The type of job with the most housing loans is \"blue-collar,\" with a total of 12 individuals having housing loans.\n"
     ]
    }
   ],
   "source": [
    "response = query_engine.query(\"Which type of job has the most housing loan?\")\n",
    "print(response.response)"
   ]
  },
  {
   "cell_type": "code",
   "execution_count": 84,
   "id": "d93073a0-92c1-4bdf-8196-c729f872a429",
   "metadata": {},
   "outputs": [
    {
     "name": "stdout",
     "output_type": "stream",
     "text": [
      "{'c53146f2-6b09-42fb-89df-e6335336ca64': {'sql_query': \"SELECT job, COUNT(housing) AS housing_loan_count FROM bank WHERE housing = 'yes' GROUP BY job ORDER BY housing_loan_count DESC LIMIT 1\", 'result': [('blue-collar', 12)], 'col_keys': ['job', 'housing_loan_count']}, 'sql_query': \"SELECT job, COUNT(housing) AS housing_loan_count FROM bank WHERE housing = 'yes' GROUP BY job ORDER BY housing_loan_count DESC LIMIT 1\", 'result': [('blue-collar', 12)], 'col_keys': ['job', 'housing_loan_count']}\n"
     ]
    }
   ],
   "source": [
    "print(response.metadata)"
   ]
  },
  {
   "cell_type": "code",
   "execution_count": 86,
   "id": "d5721b2f-8e65-4238-8d49-83d713943105",
   "metadata": {},
   "outputs": [
    {
     "ename": "AttributeError",
     "evalue": "'Engine' object has no attribute 'close'",
     "output_type": "error",
     "traceback": [
      "\u001b[0;31m---------------------------------------------------------------------------\u001b[0m",
      "\u001b[0;31mAttributeError\u001b[0m                            Traceback (most recent call last)",
      "Cell \u001b[0;32mIn[86], line 1\u001b[0m\n\u001b[0;32m----> 1\u001b[0m \u001b[43mengine\u001b[49m\u001b[38;5;241;43m.\u001b[39;49m\u001b[43mclose\u001b[49m()\n",
      "\u001b[0;31mAttributeError\u001b[0m: 'Engine' object has no attribute 'close'"
     ]
    }
   ],
   "source": [
    "engine.close()"
   ]
  },
  {
   "cell_type": "code",
   "execution_count": null,
   "id": "b58a4f7f-5f2b-4ed6-b2c7-eefcbbce6ca4",
   "metadata": {},
   "outputs": [],
   "source": []
  }
 ],
 "metadata": {
  "kernelspec": {
   "display_name": "Python 3 (ipykernel)",
   "language": "python",
   "name": "python3"
  },
  "language_info": {
   "codemirror_mode": {
    "name": "ipython",
    "version": 3
   },
   "file_extension": ".py",
   "mimetype": "text/x-python",
   "name": "python",
   "nbconvert_exporter": "python",
   "pygments_lexer": "ipython3",
   "version": "3.9.6"
  }
 },
 "nbformat": 4,
 "nbformat_minor": 5
}
